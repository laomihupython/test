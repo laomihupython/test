{
 "cells": [
  {
   "cell_type": "markdown",
   "id": "5efe943a-52e5-40f3-b6ce-773ad6ac29dc",
   "metadata": {},
   "source": [
    "#### 题目 有四个数字：1、2、3、4，能组成多少个互不相同且无重复数字的三位数？各是多少？"
   ]
  },
  {
   "cell_type": "code",
   "execution_count": 7,
   "id": "fdf2fa4b-64e7-4838-8c7f-05d489c6799e",
   "metadata": {
    "editable": true,
    "slideshow": {
     "slide_type": ""
    },
    "tags": []
   },
   "outputs": [
    {
     "name": "stdout",
     "output_type": "stream",
     "text": [
      "共有24个数字组合\n",
      "它们分别是[123, 124, 132, 134, 142, 143, 213, 214, 231, 234, 241, 243, 312, 314, 321, 324, 341, 342, 412, 413, 421, 423, 431, 432]\n"
     ]
    }
   ],
   "source": [
    "\"\"\"\n",
    "题目 有四个数字：1、2、3、4，能组成多少个互不相同且无重复数字的三位数？各是多少？\n",
    "\"\"\"\n",
    "\n",
    "n = []\n",
    "lis = [1, 2, 3, 4]\n",
    "for a in lis:\n",
    "    for b in lis:\n",
    "        if b != a:\n",
    "            for c in lis:\n",
    "                if c != b and c != a:\n",
    "                    n.append(a * 100 + b * 10 + c)\n",
    "print(f\"共有{len(n)}个数字组合\")\n",
    "print(f\"它们分别是{n}\")"
   ]
  },
  {
   "cell_type": "markdown",
   "id": "39591dde-9441-4efd-9ee9-d3bac37f185a",
   "metadata": {},
   "source": [
    "#### “奖金计算”"
   ]
  },
  {
   "cell_type": "code",
   "execution_count": 17,
   "id": "7cde5225-2ea9-477b-bd91-7855672b88d8",
   "metadata": {
    "execution": {
     "iopub.execute_input": "2025-01-05T01:21:10.718335Z",
     "iopub.status.busy": "2025-01-05T01:21:10.718335Z",
     "iopub.status.idle": "2025-01-05T01:21:13.258494Z",
     "shell.execute_reply": "2025-01-05T01:21:13.258494Z",
     "shell.execute_reply.started": "2025-01-05T01:21:10.718335Z"
    }
   },
   "outputs": [
    {
     "name": "stdin",
     "output_type": "stream",
     "text": [
      "请输入你的利润(单位：万)\t 67\n"
     ]
    },
    {
     "name": "stdout",
     "output_type": "stream",
     "text": [
      "你输入的利润为：67.0万\n",
      "应发提成为￥:3.4550万元\n"
     ]
    }
   ],
   "source": [
    "\"\"\" \n",
    "程序002：“奖金计算”\n",
    "企业发放的奖金是以利润提成为基础的。\n",
    "利润(I)\n",
    "小于或等于10万元时，奖金可发奖金10%；\n",
    "利润高于10万元低于20万元时，低于10万元的部分发奖金10%，高于10万元的部分发奖金7.5%；\n",
    "20-40万元之间时，高于20万元的部分可发奖金5%；\n",
    "40-60万元之间，高于40万元的部分可发奖金3%；\n",
    "60万-100万之间时，高于60万的部分可以获得1.5%的提成；\n",
    "高于100万元时，超过100万元的部分将获得1%的佣金。\n",
    "从键盘输入当月的利润I，找出要发放的奖金总额？\n",
    "\"\"\"\n",
    "\n",
    "profit = float(input(\"请输入你的利润(单位：万)\\t\"))\n",
    "print(f\"你输入的利润为：{profit}万\")\n",
    "\n",
    "li = [100, 60, 40, 20, 10, 0]\n",
    "ra = [0.01, 0.015, 0.03, 0.05, 0.075, 0.1]\n",
    "\n",
    "total = 0\n",
    "for i in range(6):\n",
    "    if profit > li[i]:\n",
    "        total += (profit - li[i]) * ra[i]\n",
    "        profit = li[i]\n",
    "\n",
    "print(\"应发提成为￥:%.4f万元\" % total)"
   ]
  },
  {
   "cell_type": "code",
   "execution_count": 8,
   "id": "7d2db0c0-3c43-4060-8a68-2ed75719115a",
   "metadata": {
    "execution": {
     "iopub.execute_input": "2025-01-05T00:53:36.304960Z",
     "iopub.status.busy": "2025-01-05T00:53:36.303959Z",
     "iopub.status.idle": "2025-01-05T00:53:40.822968Z",
     "shell.execute_reply": "2025-01-05T00:53:40.822162Z",
     "shell.execute_reply.started": "2025-01-05T00:53:36.304960Z"
    }
   },
   "outputs": [
    {
     "name": "stdin",
     "output_type": "stream",
     "text": [
      "净利润: 677688\n"
     ]
    },
    {
     "name": "stdout",
     "output_type": "stream",
     "text": [
      "34665.32\n"
     ]
    }
   ],
   "source": [
    "\"\"\"题目：企业发放的奖金根据利润提成。\n",
    "利润(I)低于或等于10万元时，奖金可提10%；\n",
    "利润高于10万元，低于20万元时，低于10万元的部分按10%提成，高于10万元的部分，可提成7.5%；\n",
    "20万到40万之间时，高于20万元的部分，可提成5%；40万到60万之间时高于40万元的部分，可提成3%；\n",
    "60万到100万之间时，高于60万元的部分，可提成1.5%，高于100万元时，超过100万元的部分按1%提成，\n",
    "从键盘输入当月利润I，求应发放奖金总数？\n",
    "\n",
    "程序分析：请利用数轴来分界，定位。\"\"\"\n",
    "\n",
    "#!/usr/bin/python\n",
    "# -*- coding: UTF-8 -*-\n",
    "\n",
    "i = float(input(\"净利润:\"))\n",
    "lirun = [1000000, 600000, 400000, 200000, 100000, 0]\n",
    "rat = [0.01, 0.015, 0.03, 0.05, 0.075, 0.1]\n",
    "r = 0\n",
    "for n in range(0, 6):\n",
    "    if i > lirun[n]:\n",
    "        r += (i - lirun[n]) * rat[n]\n",
    "        i = lirun[n]\n",
    "print(r)"
   ]
  },
  {
   "cell_type": "markdown",
   "id": "318ed778-2c1a-4110-9046-23687788550d",
   "metadata": {},
   "source": [
    "#### 题目是整数，加100后是完整的平方数，加168后是完整的平方数。请问号码是多少？"
   ]
  },
  {
   "cell_type": "code",
   "execution_count": 1,
   "id": "e648e029-f55d-4f64-b42c-579916a57bac",
   "metadata": {
    "execution": {
     "iopub.execute_input": "2024-12-19T09:25:27.343885Z",
     "iopub.status.busy": "2024-12-19T09:25:27.343885Z",
     "iopub.status.idle": "2024-12-19T09:25:27.356644Z",
     "shell.execute_reply": "2024-12-19T09:25:27.356644Z",
     "shell.execute_reply.started": "2024-12-19T09:25:27.343885Z"
    },
    "jupyter": {
     "source_hidden": true
    }
   },
   "outputs": [
    {
     "name": "stdout",
     "output_type": "stream",
     "text": [
      "['five', 'four', 'one', 'six', 'three', 'two']\n"
     ]
    },
    {
     "data": {
      "text/plain": [
       "['one', 'six', 'two', 'five', 'four', 'three']"
      ]
     },
     "execution_count": 1,
     "metadata": {},
     "output_type": "execute_result"
    }
   ],
   "source": [
    "lst = [\"one\", \"two\", \"three\", \"four\", \"five\", \"six\"]\n",
    "\n",
    "\n",
    "def f(s):\n",
    "    return len(s)\n",
    "\n",
    "\n",
    "lst.sort(key=str.lower)\n",
    "print(lst)\n",
    "\n",
    "l1 = sorted(lst, key=f)  # 把函数f传进去，不是把函数的结果传进去\n",
    "l1"
   ]
  },
  {
   "cell_type": "markdown",
   "id": "231d1fa2-70e4-4705-9db4-6ea67a79a7ed",
   "metadata": {},
   "source": [
    "#### 字典转序列"
   ]
  },
  {
   "cell_type": "code",
   "execution_count": 4,
   "id": "958cfc98-593d-40c5-b09e-29f9870c2ac2",
   "metadata": {
    "execution": {
     "iopub.execute_input": "2024-12-19T16:31:59.352772Z",
     "iopub.status.busy": "2024-12-19T16:31:59.352772Z",
     "iopub.status.idle": "2024-12-19T16:31:59.356630Z",
     "shell.execute_reply": "2024-12-19T16:31:59.356630Z",
     "shell.execute_reply.started": "2024-12-19T16:31:59.352772Z"
    },
    "jupyter": {
     "source_hidden": true
    }
   },
   "outputs": [
    {
     "name": "stdout",
     "output_type": "stream",
     "text": [
      "[('1', 11), ('b', 22)]\n",
      "{'1': 11, 'b': 22}\n"
     ]
    }
   ],
   "source": [
    "a = {}\n",
    "a[\"1\"] = 11\n",
    "a[\"b\"] = 22\n",
    "t = a.items()\n",
    "print(list(t))\n",
    "print(a)"
   ]
  },
  {
   "cell_type": "markdown",
   "id": "11b4e149-3dc4-4f43-9628-bcd3722a54ec",
   "metadata": {},
   "source": [
    "#### 汉诺塔"
   ]
  },
  {
   "cell_type": "code",
   "execution_count": 5,
   "id": "ae7792f9-bf50-425b-84b4-2f59bfd9cb8f",
   "metadata": {
    "execution": {
     "iopub.execute_input": "2024-12-21T14:09:44.115223Z",
     "iopub.status.busy": "2024-12-21T14:09:44.114224Z",
     "iopub.status.idle": "2024-12-21T14:09:44.120219Z",
     "shell.execute_reply": "2024-12-21T14:09:44.120219Z",
     "shell.execute_reply.started": "2024-12-21T14:09:44.115223Z"
    },
    "jupyter": {
     "source_hidden": true
    }
   },
   "outputs": [
    {
     "name": "stdout",
     "output_type": "stream",
     "text": [
      "A->C\n",
      "A->B\n",
      "C->B\n",
      "A->C\n",
      "B->A\n",
      "B->C\n",
      "A->C\n"
     ]
    }
   ],
   "source": [
    "# 汉诺塔问题，用递归函数\n",
    "def move(n, A, B, C):\n",
    "\n",
    "    if n == 1:\n",
    "        print(f\"{A}->{C}\")\n",
    "        return\n",
    "    # 將n-1个盘子移动A->B\n",
    "    move(n - 1, A, C, B)\n",
    "    # 將剩余一个盘子从A->C\n",
    "    move(1, A, B, C)\n",
    "    # 將n-1个盘子移动B->C\n",
    "    move(n - 1, B, A, C)\n",
    "\n",
    "\n",
    "move(3, \"A\", \"B\", \"C\")"
   ]
  },
  {
   "cell_type": "markdown",
   "id": "e713faa5-f954-4a20-8183-f3c873634e2e",
   "metadata": {},
   "source": [
    "####  计算 a 的 n 次 方 递归法"
   ]
  },
  {
   "cell_type": "code",
   "execution_count": 2,
   "id": "8f8bc70a-a05c-478c-9217-1d8839d4c66c",
   "metadata": {
    "execution": {
     "iopub.execute_input": "2025-01-04T11:16:08.849099Z",
     "iopub.status.busy": "2025-01-04T11:16:08.848595Z",
     "iopub.status.idle": "2025-01-04T11:16:08.853364Z",
     "shell.execute_reply": "2025-01-04T11:16:08.853364Z",
     "shell.execute_reply.started": "2025-01-04T11:16:08.849099Z"
    },
    "jupyter": {
     "source_hidden": true
    }
   },
   "outputs": [
    {
     "name": "stdout",
     "output_type": "stream",
     "text": [
      "59049\n"
     ]
    }
   ],
   "source": [
    "# 计算a的n次方递归法\n",
    "def func(a, n):\n",
    "    if n == 0:\n",
    "        return 1\n",
    "    else:\n",
    "        return a * func(a, n - 1)\n",
    "\n",
    "\n",
    "print(func(3, 10))"
   ]
  },
  {
   "cell_type": "markdown",
   "id": "06a0b9e0-9799-4d98-91dd-cbaf2d2664df",
   "metadata": {},
   "source": [
    "#### 递归地计算数组元素的总和。"
   ]
  },
  {
   "cell_type": "code",
   "execution_count": 72,
   "id": "7e99cdd7-a6df-4fd0-ac63-56112653d369",
   "metadata": {
    "execution": {
     "iopub.execute_input": "2024-12-21T15:59:40.037198Z",
     "iopub.status.busy": "2024-12-21T15:59:40.036198Z",
     "iopub.status.idle": "2024-12-21T15:59:40.042373Z",
     "shell.execute_reply": "2024-12-21T15:59:40.041406Z",
     "shell.execute_reply.started": "2024-12-21T15:59:40.037198Z"
    }
   },
   "outputs": [
    {
     "name": "stdout",
     "output_type": "stream",
     "text": [
      "6\n"
     ]
    }
   ],
   "source": [
    "# 递归地计算数组元素的总和。\n",
    "num = [3, 2, 1]\n",
    "\n",
    "\n",
    "def array_sum(arr):\n",
    "    if len(arr) == 0:  # 空数组\n",
    "        return 0\n",
    "    else:  # 非空数组\n",
    "        return arr[0] + array_sum(arr[1:])\n",
    "\n",
    "\n",
    "print(array_sum(num))"
   ]
  },
  {
   "cell_type": "markdown",
   "id": "0b0428fc-5f3d-46ff-93b1-93c91370b244",
   "metadata": {},
   "source": [
    "#### 使用递归来反转字符串。"
   ]
  },
  {
   "cell_type": "code",
   "execution_count": 5,
   "id": "aaac8088-4c82-4df5-8a3d-0da8a7cee814",
   "metadata": {
    "execution": {
     "iopub.execute_input": "2025-01-04T11:30:08.163486Z",
     "iopub.status.busy": "2025-01-04T11:30:08.163486Z",
     "iopub.status.idle": "2025-01-04T11:30:08.170591Z",
     "shell.execute_reply": "2025-01-04T11:30:08.170058Z",
     "shell.execute_reply.started": "2025-01-04T11:30:08.163486Z"
    },
    "jupyter": {
     "source_hidden": true
    }
   },
   "outputs": [
    {
     "name": "stdout",
     "output_type": "stream",
     "text": [
      "2345\n",
      "345\n",
      "45\n",
      "5\n"
     ]
    },
    {
     "data": {
      "text/plain": [
       "'54321'"
      ]
     },
     "execution_count": 5,
     "metadata": {},
     "output_type": "execute_result"
    }
   ],
   "source": [
    "# 使用递归来反转字符串。\n",
    "def revers_str(s):\n",
    "    if len(s) == 1:\n",
    "        return s\n",
    "    else:\n",
    "        print(s[1:])\n",
    "        return revers_str(s[1:]) + s[0]\n",
    "\n",
    "\n",
    "revers_str(\"12345\")"
   ]
  },
  {
   "cell_type": "code",
   "execution_count": 19,
   "id": "22060514-e896-4fde-9ffe-bd4fa7946175",
   "metadata": {
    "execution": {
     "iopub.execute_input": "2025-01-04T12:11:36.513489Z",
     "iopub.status.busy": "2025-01-04T12:11:36.513461Z",
     "iopub.status.idle": "2025-01-04T12:11:41.140285Z",
     "shell.execute_reply": "2025-01-04T12:11:41.140285Z",
     "shell.execute_reply.started": "2025-01-04T12:11:36.513489Z"
    }
   },
   "outputs": [
    {
     "name": "stdin",
     "output_type": "stream",
     "text": [
      "输入字符串 12345\n"
     ]
    },
    {
     "name": "stdout",
     "output_type": "stream",
     "text": [
      "54321\n"
     ]
    }
   ],
   "source": [
    "s = input(\"输入字符串\")\n",
    "new_s = s[::-1]\n",
    "print(new_s)"
   ]
  },
  {
   "cell_type": "markdown",
   "id": "5a5caf08-a5a6-4ed1-a182-2c897657831f",
   "metadata": {},
   "source": [
    "#### 递归地找出数组中的最大值。"
   ]
  },
  {
   "cell_type": "code",
   "execution_count": 3,
   "id": "6d4c953d-f413-4234-80ef-0d3537d4d69d",
   "metadata": {
    "execution": {
     "iopub.execute_input": "2025-01-05T00:35:36.445006Z",
     "iopub.status.busy": "2025-01-05T00:35:36.444006Z",
     "iopub.status.idle": "2025-01-05T00:35:36.454981Z",
     "shell.execute_reply": "2025-01-05T00:35:36.454412Z",
     "shell.execute_reply.started": "2025-01-05T00:35:36.445006Z"
    }
   },
   "outputs": [
    {
     "name": "stdout",
     "output_type": "stream",
     "text": [
      "[395, 260, 635, 481, 177, 84, 253, 138, 702, 426]\n"
     ]
    },
    {
     "data": {
      "text/plain": [
       "702"
      ]
     },
     "execution_count": 3,
     "metadata": {},
     "output_type": "execute_result"
    }
   ],
   "source": [
    "# 递归地找出数组中的最大值。\n",
    "import random\n",
    "\n",
    "num = [random.randint(1, 1000) for i in range(10)]\n",
    "print(num)\n",
    "\n",
    "\n",
    "def find_max(lst):\n",
    "    if len(lst) == 1:  # 只有一个数\n",
    "        return lst[0]\n",
    "\n",
    "    if lst[0] < lst[1]:  # 有2个以上数\n",
    "        return find_max(lst[1:])\n",
    "    else:  # 第一个数 大于第二数\n",
    "        lst[1] = lst[0]  # 把大数换到第二个位置\n",
    "        return find_max(lst[1:])\n",
    "\n",
    "\n",
    "find_max(num)"
   ]
  },
  {
   "cell_type": "markdown",
   "id": "692c9000-30d9-4b6f-ae55-90ca181c7b42",
   "metadata": {},
   "source": [
    "#### 找出数组最大值递归法"
   ]
  },
  {
   "cell_type": "code",
   "execution_count": 2,
   "id": "49e1e4c2-d68b-447c-a13d-795e337e0c8d",
   "metadata": {
    "execution": {
     "iopub.execute_input": "2025-01-05T00:33:34.285955Z",
     "iopub.status.busy": "2025-01-05T00:33:34.285955Z",
     "iopub.status.idle": "2025-01-05T00:33:34.296800Z",
     "shell.execute_reply": "2025-01-05T00:33:34.296509Z",
     "shell.execute_reply.started": "2025-01-05T00:33:34.285955Z"
    }
   },
   "outputs": [
    {
     "name": "stdout",
     "output_type": "stream",
     "text": [
      "[586, 851, 83, 969, 143, 650, 210, 182, 747, 792]\n",
      "969\n"
     ]
    }
   ],
   "source": [
    "# 找出数组最大值\n",
    "import random\n",
    "\n",
    "num = [random.randint(1, 1000) for i in range(10)]\n",
    "print(num)\n",
    "\n",
    "\n",
    "def find_max(arr):\n",
    "    if len(arr) == 1:\n",
    "        return arr[0]\n",
    "    else:\n",
    "        sub_max = find_max(arr[1:])\n",
    "        return arr[0] if arr[0] > sub_max else sub_max  #  用三目运算 ，返回最大值\n",
    "\n",
    "\n",
    "print(find_max(num))"
   ]
  },
  {
   "cell_type": "markdown",
   "id": "90b48dac-dbee-4c65-8cd0-2fb1df06c51c",
   "metadata": {},
   "source": [
    "#### 输入某年某月某日，判断这一天是这一年的第几天？"
   ]
  },
  {
   "cell_type": "code",
   "execution_count": 12,
   "id": "24dd85ef-1c5d-4c6a-9a5f-8a8f816d7f47",
   "metadata": {
    "execution": {
     "iopub.execute_input": "2024-12-27T12:37:40.340505Z",
     "iopub.status.busy": "2024-12-27T12:37:40.340505Z",
     "iopub.status.idle": "2024-12-27T12:37:51.281465Z",
     "shell.execute_reply": "2024-12-27T12:37:51.281465Z",
     "shell.execute_reply.started": "2024-12-27T12:37:40.340505Z"
    }
   },
   "outputs": [
    {
     "name": "stdin",
     "output_type": "stream",
     "text": [
      "输入年月日格式****-**-** 2024-3-2\n"
     ]
    },
    {
     "name": "stdout",
     "output_type": "stream",
     "text": [
      "2024-03-02 00:00:00\n",
      "<class 'datetime.datetime'>\n"
     ]
    },
    {
     "data": {
      "text/plain": [
       "'062'"
      ]
     },
     "execution_count": 12,
     "metadata": {},
     "output_type": "execute_result"
    }
   ],
   "source": [
    "# 程序004：这天第几天? 题目 输入某年某月某日，判断这一天是这一年的第几天？\n",
    "from datetime import datetime\n",
    "\n",
    "temp_day = input(\"输入年月日格式****-**-**\")\n",
    "td = datetime.strptime(temp_day, \"%Y-%m-%d\")\n",
    "print(td)\n",
    "print(type(td))\n",
    "td.strftime(\"%j\")"
   ]
  },
  {
   "cell_type": "markdown",
   "id": "ac36cc07-ec82-4299-865d-02214011dede",
   "metadata": {},
   "source": [
    "#### 将小写字母全部转换成大写字母"
   ]
  },
  {
   "cell_type": "code",
   "execution_count": 14,
   "id": "09cbfaed-3f69-445c-ab0b-08985aee4a1d",
   "metadata": {
    "execution": {
     "iopub.execute_input": "2024-12-27T12:46:50.538171Z",
     "iopub.status.busy": "2024-12-27T12:46:50.537173Z",
     "iopub.status.idle": "2024-12-27T12:46:56.100847Z",
     "shell.execute_reply": "2024-12-27T12:46:56.100847Z",
     "shell.execute_reply.started": "2024-12-27T12:46:50.538171Z"
    }
   },
   "outputs": [
    {
     "name": "stdin",
     "output_type": "stream",
     "text": [
      "输入字符串 asdfDDfe\n"
     ]
    }
   ],
   "source": [
    "# 题目 从键盘输入一个字符串，将小写字母全部转换成大写字母，然后输出到一个磁盘文件'test'中保存。\n",
    "import os\n",
    "\n",
    "path = r\".\\datatemp\\test.txt\"\n",
    "content = input(\"输入字符串\")\n",
    "\n",
    "with open(path, mode=\"w\", encoding=\"utf-8\") as f:\n",
    "    f.write(content.upper())"
   ]
  },
  {
   "cell_type": "markdown",
   "id": "b0429b3d-ac4e-4a04-9676-e2b97063c2f9",
   "metadata": {},
   "source": [
    "#### 有两个磁盘文件A和B,各存放一行字母,要求把这两个文件中的信息合并(按字母顺序排列), 输出到一个新文件C中"
   ]
  },
  {
   "cell_type": "code",
   "execution_count": 44,
   "id": "d52fd318-d1be-4541-b5f9-8b76863ed367",
   "metadata": {
    "execution": {
     "iopub.execute_input": "2024-12-27T13:51:18.605025Z",
     "iopub.status.busy": "2024-12-27T13:51:18.605025Z",
     "iopub.status.idle": "2024-12-27T13:51:18.612264Z",
     "shell.execute_reply": "2024-12-27T13:51:18.612264Z",
     "shell.execute_reply.started": "2024-12-27T13:51:18.605025Z"
    }
   },
   "outputs": [
    {
     "name": "stdout",
     "output_type": "stream",
     "text": [
      "asdfdsfsdffddfjhasdljkfjdsojkjklsdaoinnh\n",
      "<class 'list'>\n",
      "文件已经保存\n"
     ]
    }
   ],
   "source": [
    "# 题目 有两个磁盘文件A和B,各存放一行字母,要求把这两个文件中的信息合并(按字母顺序排列), 输出到一个新文件C中。\n",
    "import os\n",
    "\n",
    "path = r\".\\datatemp\"\n",
    "str1 = \"\"\n",
    "with open(os.path.join(path, \"A.txt\"), mode=\"r\", encoding=\"utf-8\") as fa:\n",
    "    str1 += fa.read()\n",
    "    with open(os.path.join(path, \"B.txt\"), mode=\"r\", encoding=\"utf-8\") as fb:\n",
    "        str1 += fb.read()\n",
    "print(str1)\n",
    "# lst = [i for i in str1]\n",
    "lst = list(str1)\n",
    "print(type(lst))\n",
    "# print(sorted(lst))\n",
    "lst.sort()  # 对列表进行排序\n",
    "with open(os.path.join(path, \"C.txt\"), mode=\"a+\", encoding=\"utf-8\") as fc:\n",
    "    a = \"\"\n",
    "    a = a.join(\n",
    "        lst\n",
    "    )  # 以 a 作为分隔符，将 lst 中所有的元素(的字符串表示)合并为一个新的字符串\n",
    "    fc.write(a)\n",
    "\n",
    "    # for i in lst:\n",
    "    #     fc.write(i)\n",
    "\n",
    "print(\"文件已经保存\")"
   ]
  },
  {
   "cell_type": "markdown",
   "id": "0823b9fe-1f95-4f22-a9c2-5cb41c0db79c",
   "metadata": {},
   "source": [
    "#### python 关键字"
   ]
  },
  {
   "cell_type": "code",
   "execution_count": 3,
   "id": "fdf11c63-9d3d-4775-9043-48f9a3dbd3e1",
   "metadata": {
    "execution": {
     "iopub.execute_input": "2024-12-27T16:48:21.028136Z",
     "iopub.status.busy": "2024-12-27T16:48:21.027136Z",
     "iopub.status.idle": "2024-12-27T16:48:21.032348Z",
     "shell.execute_reply": "2024-12-27T16:48:21.032348Z",
     "shell.execute_reply.started": "2024-12-27T16:48:21.028136Z"
    }
   },
   "outputs": [
    {
     "name": "stdout",
     "output_type": "stream",
     "text": [
      "\n",
      "Here is a list of the Python keywords.  Enter any keyword to get more help.\n",
      "\n",
      "False               class               from                or\n",
      "None                continue            global              pass\n",
      "True                def                 if                  raise\n",
      "and                 del                 import              return\n",
      "as                  elif                in                  try\n",
      "assert              else                is                  while\n",
      "async               except              lambda              with\n",
      "await               finally             nonlocal            yield\n",
      "break               for                 not                 \n",
      "\n"
     ]
    }
   ],
   "source": [
    "# python 关键字\n",
    "help(\"keywords\")"
   ]
  },
  {
   "cell_type": "markdown",
   "id": "2d880798-17c7-4634-8e0e-18636717855f",
   "metadata": {},
   "source": [
    "#### 找出列表中元素最大值\n",
    "       1 max ,2 sort ,3 random"
   ]
  },
  {
   "cell_type": "code",
   "execution_count": 17,
   "id": "b55125c2-5236-446e-8be0-7e714dbbcd16",
   "metadata": {
    "execution": {
     "iopub.execute_input": "2025-01-04T11:58:18.430545Z",
     "iopub.status.busy": "2025-01-04T11:58:18.430545Z",
     "iopub.status.idle": "2025-01-04T11:58:18.435682Z",
     "shell.execute_reply": "2025-01-04T11:58:18.435163Z",
     "shell.execute_reply.started": "2025-01-04T11:58:18.430545Z"
    }
   },
   "outputs": [
    {
     "name": "stdout",
     "output_type": "stream",
     "text": [
      "[494, 437, 392, 195, 506, 843, 455, 377, 436, 7]\n",
      "843\n"
     ]
    }
   ],
   "source": [
    "import random\n",
    "\n",
    "# 列表推导式\n",
    "lst = [random.randint(1, 1000) for i in range(10)]\n",
    "print(lst)\n",
    "# print(max(lst))\n",
    "\n",
    "lst.sort()\n",
    "print(lst[-1])\n",
    "\n",
    "# t = sorted(lst)\n",
    "# print(t[-1])"
   ]
  },
  {
   "cell_type": "markdown",
   "id": "25e9f49c-9c05-4783-a13e-4ef968dea4f5",
   "metadata": {},
   "source": [
    "#### 找出列表中元素第二大值"
   ]
  },
  {
   "cell_type": "code",
   "execution_count": 21,
   "id": "8c3d2f30-c2d0-44fe-803f-f5772278ac7f",
   "metadata": {
    "execution": {
     "iopub.execute_input": "2025-01-04T12:16:35.696604Z",
     "iopub.status.busy": "2025-01-04T12:16:35.695581Z",
     "iopub.status.idle": "2025-01-04T12:16:35.701303Z",
     "shell.execute_reply": "2025-01-04T12:16:35.701303Z",
     "shell.execute_reply.started": "2025-01-04T12:16:35.696604Z"
    }
   },
   "outputs": [
    {
     "name": "stdout",
     "output_type": "stream",
     "text": [
      "[631, 142, 594, 489, 838, 813, 553, 959, 778, 785]\n",
      "838\n"
     ]
    }
   ],
   "source": [
    "# 列表推导式\n",
    "lst = [random.randint(1, 1000) for i in range(10)]\n",
    "print(lst)\n",
    "t = max(lst)\n",
    "lst.remove(t)\n",
    "print(max(lst))"
   ]
  },
  {
   "cell_type": "markdown",
   "id": "9cda32ad-8894-497b-8b3f-bd0e85f1296e",
   "metadata": {},
   "source": [
    "#### 把字符串中的所有元音字母替换成*\n"
   ]
  },
  {
   "cell_type": "code",
   "execution_count": 22,
   "id": "8711a19f-2e81-4639-acf8-c1696fb10344",
   "metadata": {
    "execution": {
     "iopub.execute_input": "2025-01-04T12:26:17.721935Z",
     "iopub.status.busy": "2025-01-04T12:26:17.720936Z",
     "iopub.status.idle": "2025-01-04T12:26:22.526367Z",
     "shell.execute_reply": "2025-01-04T12:26:22.526367Z",
     "shell.execute_reply.started": "2025-01-04T12:26:17.721935Z"
    },
    "scrolled": true
   },
   "outputs": [
    {
     "name": "stdin",
     "output_type": "stream",
     "text": [
      "请输入字符串英文： aldjfoeur;lasdjkf\n"
     ]
    },
    {
     "name": "stdout",
     "output_type": "stream",
     "text": [
      "*ldjf***r;l*sdjkf\n"
     ]
    }
   ],
   "source": [
    "# 原因字母a,e,i,o,u\n",
    "s = input(\"请输入字符串英文：\")\n",
    "new_s = (\n",
    "    s.replace(\"a\", \"*\")\n",
    "    .replace(\"e\", \"*\")\n",
    "    .replace(\"i\", \"*\")\n",
    "    .replace(\"o\", \"*\")\n",
    "    .replace(\"u\", \"*\")\n",
    ")\n",
    "print(new_s)"
   ]
  },
  {
   "cell_type": "markdown",
   "id": "8a8e6c81-2781-462a-84c9-1f093c3b4761",
   "metadata": {},
   "source": [
    "#### 复制列表"
   ]
  },
  {
   "cell_type": "code",
   "execution_count": 18,
   "id": "b532ba2b-82d0-4803-acd8-86b73274d036",
   "metadata": {
    "execution": {
     "iopub.execute_input": "2025-01-05T02:02:27.022730Z",
     "iopub.status.busy": "2025-01-05T02:02:27.021729Z",
     "iopub.status.idle": "2025-01-05T02:02:27.027372Z",
     "shell.execute_reply": "2025-01-05T02:02:27.026941Z",
     "shell.execute_reply.started": "2025-01-05T02:02:27.022730Z"
    }
   },
   "outputs": [
    {
     "name": "stdout",
     "output_type": "stream",
     "text": [
      "<class 'list'>\n"
     ]
    }
   ],
   "source": [
    "#!/usr/bin/python\n",
    "# -*- coding: UTF-8 -*-\n",
    "\n",
    "a = [1, 2, 3]\n",
    "b = a[:]\n",
    "print(type(b))"
   ]
  },
  {
   "cell_type": "markdown",
   "id": "4c024ba8-6bd1-4ed6-8a46-234c80beceb7",
   "metadata": {},
   "source": [
    "#### 输出 9*9 乘法口诀表。"
   ]
  },
  {
   "cell_type": "code",
   "execution_count": 30,
   "id": "1d68e87d-f37f-4227-aeca-300650d888fc",
   "metadata": {
    "execution": {
     "iopub.execute_input": "2025-01-05T02:17:58.618574Z",
     "iopub.status.busy": "2025-01-05T02:17:58.618574Z",
     "iopub.status.idle": "2025-01-05T02:17:58.630113Z",
     "shell.execute_reply": "2025-01-05T02:17:58.629754Z",
     "shell.execute_reply.started": "2025-01-05T02:17:58.618574Z"
    }
   },
   "outputs": [
    {
     "name": "stdout",
     "output_type": "stream",
     "text": [
      "1x1=1\t\n",
      "1x2=2\t2x2=4\t\n",
      "1x3=3\t2x3=6\t3x3=9\t\n",
      "1x4=4\t2x4=8\t3x4=12\t4x4=16\t\n",
      "1x5=5\t2x5=10\t3x5=15\t4x5=20\t5x5=25\t\n",
      "1x6=6\t2x6=12\t3x6=18\t4x6=24\t5x6=30\t6x6=36\t\n",
      "1x7=7\t2x7=14\t3x7=21\t4x7=28\t5x7=35\t6x7=42\t7x7=49\t\n",
      "1x8=8\t2x8=16\t3x8=24\t4x8=32\t5x8=40\t6x8=48\t7x8=56\t8x8=64\t\n",
      "1x9=9\t2x9=18\t3x9=27\t4x9=36\t5x9=45\t6x9=54\t7x9=63\t8x9=72\t9x9=81\t"
     ]
    }
   ],
   "source": [
    "for row in range(1, 10):\n",
    "    for column in range(1, 10):\n",
    "        if column <= row:\n",
    "            print(f\"{column}x{row}={row*column}\", end=\"\\t\")\n",
    "        else:\n",
    "            print()\n",
    "            break"
   ]
  },
  {
   "cell_type": "markdown",
   "id": "9fa4b09b-dfa8-4529-8949-40d1c0a44b06",
   "metadata": {},
   "source": [
    "#### 格式化输出时间"
   ]
  },
  {
   "cell_type": "code",
   "execution_count": 35,
   "id": "c4a3f4ea-6794-49b1-8554-acb5841c1278",
   "metadata": {
    "execution": {
     "iopub.execute_input": "2025-01-05T02:23:02.444186Z",
     "iopub.status.busy": "2025-01-05T02:23:02.444186Z",
     "iopub.status.idle": "2025-01-05T02:23:02.447878Z",
     "shell.execute_reply": "2025-01-05T02:23:02.447878Z",
     "shell.execute_reply.started": "2025-01-05T02:23:02.444186Z"
    }
   },
   "outputs": [
    {
     "name": "stdout",
     "output_type": "stream",
     "text": [
      "2025-01-05 10:23:02\n"
     ]
    }
   ],
   "source": [
    "import time\n",
    "\n",
    "print(time.strftime(\"%Y-%m-%d %H:%M:%S\", time.localtime()))"
   ]
  },
  {
   "cell_type": "markdown",
   "id": "e554a853-4bfe-4569-8396-3b632912f3c6",
   "metadata": {},
   "source": [
    "#### 题目：古典问题：有一对兔子，\n",
    "     从出生后第3个月起 每个月 都生一对兔子，小兔子长到第三个月后每个月又生一对兔子，假如兔子都不死，问每个月的兔子总数为多少？"
   ]
  },
  {
   "cell_type": "code",
   "execution_count": 48,
   "id": "a580da02-e489-472d-8ca9-1ac571b30d12",
   "metadata": {
    "execution": {
     "iopub.execute_input": "2025-01-05T02:48:29.580940Z",
     "iopub.status.busy": "2025-01-05T02:48:29.579941Z",
     "iopub.status.idle": "2025-01-05T02:48:29.584714Z",
     "shell.execute_reply": "2025-01-05T02:48:29.584714Z",
     "shell.execute_reply.started": "2025-01-05T02:48:29.579941Z"
    }
   },
   "outputs": [
    {
     "name": "stdout",
     "output_type": "stream",
     "text": [
      "55\n"
     ]
    }
   ],
   "source": [
    "# 波切纳费序列\n",
    "\n",
    "\n",
    "def bqnf(n):\n",
    "    if n == 1 or n == 2:\n",
    "        return 1\n",
    "    else:\n",
    "        return bqnf(n - 1) + bqnf(n - 2)\n",
    "\n",
    "\n",
    "if __name__ == \"__main__\":\n",
    "    t = bqnf(10)\n",
    "    print(t)"
   ]
  },
  {
   "cell_type": "markdown",
   "id": "c4da1f2e-896a-4602-97b7-96680e9a75fa",
   "metadata": {},
   "source": [
    "#### 题目：判断101-200之间有多少个素数，并输出所有素数。"
   ]
  },
  {
   "cell_type": "code",
   "execution_count": 52,
   "id": "7005702a-5ad5-4505-b875-4c8cecb74c98",
   "metadata": {
    "execution": {
     "iopub.execute_input": "2025-01-05T03:08:46.229729Z",
     "iopub.status.busy": "2025-01-05T03:08:46.229729Z",
     "iopub.status.idle": "2025-01-05T03:08:46.242681Z",
     "shell.execute_reply": "2025-01-05T03:08:46.242681Z",
     "shell.execute_reply.started": "2025-01-05T03:08:46.229729Z"
    }
   },
   "outputs": [
    {
     "name": "stdout",
     "output_type": "stream",
     "text": [
      "质数一共有21个，他们是[101, 103, 107, 109, 113, 127, 131, 137, 139, 149, 151, 157, 163, 167, 173, 179, 181, 191, 193, 197, 199]\n"
     ]
    }
   ],
   "source": [
    "ss = []\n",
    "for i in range(101, 201):\n",
    "    lst = []\n",
    "    for j in range(2, i):\n",
    "        if i % j == 0:\n",
    "            continue\n",
    "        else:\n",
    "            lst.append(j)\n",
    "    if len(lst) == i - 2:\n",
    "        ss.append(i)\n",
    "print(\"质数一共有{}个，他们是{}\".format(len(ss), ss))"
   ]
  },
  {
   "cell_type": "markdown",
   "id": "38887a78-0f7b-4a39-b3db-3b2d61957cae",
   "metadata": {},
   "source": [
    "#### 题目：打印出所有的\"水仙花数\"，\n",
    "    所谓\"水仙花数\"是指一个三位数，其各位数字立方和等于该数本身。 \n",
    "    例如：153是一个\"水仙花数\"，因为153=1的三次方＋5的三次方＋3的三次方。"
   ]
  },
  {
   "cell_type": "markdown",
   "id": "4edbd633-8764-4ef5-9798-607edc313dd6",
   "metadata": {},
   "source": [
    "##### 方法一"
   ]
  },
  {
   "cell_type": "code",
   "execution_count": 66,
   "id": "a9264e77-8ad4-41ae-91ac-9c89b9bf95ff",
   "metadata": {
    "execution": {
     "iopub.execute_input": "2025-01-05T03:28:26.538089Z",
     "iopub.status.busy": "2025-01-05T03:28:26.538089Z",
     "iopub.status.idle": "2025-01-05T03:28:26.544941Z",
     "shell.execute_reply": "2025-01-05T03:28:26.544941Z",
     "shell.execute_reply.started": "2025-01-05T03:28:26.538089Z"
    }
   },
   "outputs": [
    {
     "name": "stdout",
     "output_type": "stream",
     "text": [
      "153\n",
      "370\n",
      "371\n",
      "407\n"
     ]
    }
   ],
   "source": [
    "# 水仙花数是三位数\n",
    "\n",
    "for i in range(100, 1000):\n",
    "    tmp = list(str(i))  # 三位数变字符串列表，\n",
    "    t = list(map(lambda n: int(n), tmp))  # 把列表里的字符串，变成整数\n",
    "    if t[0] ** 3 + t[1] ** 3 + t[2] ** 3 == i:\n",
    "        print(i)"
   ]
  },
  {
   "cell_type": "markdown",
   "id": "00ba2ec8-f45a-4c2d-9366-7346a1bf6d3b",
   "metadata": {},
   "source": [
    "##### 方法二"
   ]
  },
  {
   "cell_type": "code",
   "execution_count": 67,
   "id": "a3816d37-4f6a-44b0-ac81-12210bbcc024",
   "metadata": {
    "execution": {
     "iopub.execute_input": "2025-01-05T03:37:58.894658Z",
     "iopub.status.busy": "2025-01-05T03:37:58.893656Z",
     "iopub.status.idle": "2025-01-05T03:37:58.898930Z",
     "shell.execute_reply": "2025-01-05T03:37:58.898930Z",
     "shell.execute_reply.started": "2025-01-05T03:37:58.894658Z"
    }
   },
   "outputs": [
    {
     "name": "stdout",
     "output_type": "stream",
     "text": [
      "153\n",
      "370\n",
      "371\n",
      "407\n"
     ]
    }
   ],
   "source": [
    "for i in range(100, 1000):\n",
    "    j = i // 100\n",
    "    k = i // 10 % 10\n",
    "    l = i % 10\n",
    "    if j**3 + k**3 + l**3 == i:\n",
    "        print(i)"
   ]
  },
  {
   "cell_type": "markdown",
   "id": "74b8fdfc-d1fe-4e16-a66a-b6f547c6ceca",
   "metadata": {},
   "source": [
    "#### 14题目：将一个正整数分解质因数。\n",
    "     例如：输入90,打印出90=2*3*3*5。"
   ]
  },
  {
   "cell_type": "code",
   "execution_count": 98,
   "id": "b7746ca3-a15a-4a46-90e0-e6b1a1e56567",
   "metadata": {
    "execution": {
     "iopub.execute_input": "2025-01-05T04:59:19.157589Z",
     "iopub.status.busy": "2025-01-05T04:59:19.157589Z",
     "iopub.status.idle": "2025-01-05T04:59:21.022641Z",
     "shell.execute_reply": "2025-01-05T04:59:21.022641Z",
     "shell.execute_reply.started": "2025-01-05T04:59:19.157589Z"
    }
   },
   "outputs": [
    {
     "name": "stdin",
     "output_type": "stream",
     "text": [
      "输入一个正整数进行质因数分解： 90\n"
     ]
    },
    {
     "name": "stdout",
     "output_type": "stream",
     "text": [
      "90=2*3*3*5\n",
      "质因数列表为[2, 3, 3, 5]\n"
     ]
    }
   ],
   "source": [
    "input_num = int(input(\"输入一个正整数进行质因数分解：\"))\n",
    "\n",
    "lst = []\n",
    "print(\"{}=\".format(input_num), end=\"\")\n",
    "while True:\n",
    "\n",
    "    for i in range(2, input_num + 1):\n",
    "        if input_num % i == 0:  # 能被整除，把除数加入列表，\n",
    "            lst.append(i)\n",
    "            print(\"{}*\".format(i), end=\"\")\n",
    "            input_num = int(input_num / i)  # 把整除后的数继续循环\n",
    "            break\n",
    "\n",
    "    if input_num == 1:  # 已经到最后了没有数可以除了\n",
    "        print(\"\\b\")\n",
    "        break\n",
    "print(\"质因数列表为{}\".format(lst))"
   ]
  },
  {
   "cell_type": "markdown",
   "id": "ef8aedcb-ebb7-4298-8a69-ebf02b51a3ab",
   "metadata": {},
   "source": [
    "#### 输出指定格式日期"
   ]
  },
  {
   "cell_type": "code",
   "execution_count": 102,
   "id": "6976183a-ce07-4e58-a552-8b40e6a77ce1",
   "metadata": {
    "execution": {
     "iopub.execute_input": "2025-01-05T05:17:54.686918Z",
     "iopub.status.busy": "2025-01-05T05:17:54.685922Z",
     "iopub.status.idle": "2025-01-05T05:17:54.691943Z",
     "shell.execute_reply": "2025-01-05T05:17:54.691943Z",
     "shell.execute_reply.started": "2025-01-05T05:17:54.686918Z"
    }
   },
   "outputs": [
    {
     "name": "stdout",
     "output_type": "stream",
     "text": [
      "05/01/2025\n",
      "25/01/1941\n",
      "26/01/1941\n",
      "25/01/1942\n"
     ]
    }
   ],
   "source": [
    "#!/usr/bin/python\n",
    "# -*- coding: UTF-8 -*-\n",
    "\n",
    "import datetime\n",
    "\n",
    "if __name__ == \"__main__\":\n",
    "\n",
    "    # 输出今日日期，格式为 dd/mm/yyyy。更多选项可以查看 strftime() 方法\n",
    "    print(datetime.date.today().strftime(\"%d/%m/%Y\"))\n",
    "\n",
    "    # 创建日期对象\n",
    "    example = datetime.date(1941, 1, 25)\n",
    "\n",
    "    print(example.strftime(\"%d/%m/%Y\"))\n",
    "\n",
    "    # 日期算术运算\n",
    "    BirthNextDay = example + datetime.timedelta(days=1)\n",
    "\n",
    "    print(BirthNextDay.strftime(\"%d/%m/%Y\"))\n",
    "\n",
    "    # 日期替换\n",
    "    FirstBirthday = example.replace(year=example.year + 1)\n",
    "\n",
    "    print(FirstBirthday.strftime(\"%d/%m/%Y\"))"
   ]
  },
  {
   "cell_type": "markdown",
   "id": "3cbf91b4-0826-48aa-9bb6-b32b83d61bab",
   "metadata": {},
   "source": [
    "#### 题目：输入一行字符，分别统计出其中英文字母、空格、数字和其它字符的个数。"
   ]
  },
  {
   "cell_type": "code",
   "execution_count": 4,
   "id": "c399c20d-710e-4d44-bacf-6f367a2d3878",
   "metadata": {
    "execution": {
     "iopub.execute_input": "2025-01-05T08:27:20.142022Z",
     "iopub.status.busy": "2025-01-05T08:27:20.141023Z",
     "iopub.status.idle": "2025-01-05T08:27:20.146424Z",
     "shell.execute_reply": "2025-01-05T08:27:20.146424Z",
     "shell.execute_reply.started": "2025-01-05T08:27:20.142022Z"
    },
    "scrolled": true
   },
   "outputs": [
    {
     "name": "stdout",
     "output_type": "stream",
     "text": [
      "1\n",
      "1\n",
      "1\n",
      "2\n",
      "2\n",
      "1\n",
      "{'a': 2, 's': 2, 'k': 1, 'd': 1}\n"
     ]
    }
   ],
   "source": [
    "# 用字典实现，字母数字等用键替代，个数用值来替代\n",
    "\n",
    "# input_txt = input('输入字符串') fgh\n",
    "s = \"askasd\"\n",
    "dic1 = {}\n",
    "\n",
    "for char in s:\n",
    "    # print(dic1.get(char, 0))\n",
    "    dic1[char] = dic1.get(char, 0) + 1\n",
    "    print(dic1[char])\n",
    "\n",
    "print(dic1)"
   ]
  },
  {
   "cell_type": "markdown",
   "id": "e019dc58-bd4e-4ab5-aeff-8febe4b0e008",
   "metadata": {},
   "source": [
    "#### 题目：求s=a+aa+aaa+aaaa+aa...a的值，\n",
    "    其中a是一个数字。例如2+22+222+2222+22222(此时共有5个数相加)，几个数相加由键盘控制。"
   ]
  },
  {
   "cell_type": "code",
   "execution_count": 3,
   "id": "25f858cc-8bd5-4817-a40f-d9d184cd621c",
   "metadata": {
    "execution": {
     "iopub.execute_input": "2025-01-07T14:38:55.136474Z",
     "iopub.status.busy": "2025-01-07T14:38:55.136474Z",
     "iopub.status.idle": "2025-01-07T14:38:59.579198Z",
     "shell.execute_reply": "2025-01-07T14:38:59.579198Z",
     "shell.execute_reply.started": "2025-01-07T14:38:55.136474Z"
    }
   },
   "outputs": [
    {
     "name": "stdin",
     "output_type": "stream",
     "text": [
      "输入数字a: 4\n",
      "输入有几个数相加 4\n"
     ]
    },
    {
     "name": "stdout",
     "output_type": "stream",
     "text": [
      "[4, 44, 444, 4444] 4936\n"
     ]
    }
   ],
   "source": [
    "a = int(input(\"输入数字a:\"))\n",
    "b = int(input(\"输入有几个数相加\"))\n",
    "c = 0\n",
    "lst = []\n",
    "for i in range(b):\n",
    "    c += a * (10**i)\n",
    "    lst.append(c)\n",
    "print(lst, sum(lst))"
   ]
  },
  {
   "cell_type": "markdown",
   "id": "18a9178d-6a99-4caf-9c6d-d1d98261e564",
   "metadata": {},
   "source": [
    "#### 题目：一个数如果恰好等于它的因子之和，这个数就称为\"完数\"。\n",
    "    例如6=1＋2＋3.编程找出1000以内的所有完数。"
   ]
  },
  {
   "cell_type": "code",
   "execution_count": 12,
   "id": "4ecadda6-2170-46e3-bf70-289f9268cef4",
   "metadata": {
    "execution": {
     "iopub.execute_input": "2025-01-07T14:53:14.851806Z",
     "iopub.status.busy": "2025-01-07T14:53:14.850807Z",
     "iopub.status.idle": "2025-01-07T14:53:14.919760Z",
     "shell.execute_reply": "2025-01-07T14:53:14.919760Z",
     "shell.execute_reply.started": "2025-01-07T14:53:14.851806Z"
    }
   },
   "outputs": [
    {
     "name": "stdout",
     "output_type": "stream",
     "text": [
      "[6, 28, 496]\n"
     ]
    }
   ],
   "source": [
    "lst = []  # 用于存储完数的列表\n",
    "for i in range(1, 1001):\n",
    "    tmp_list = []  # 临时，用于判断是否是完数\n",
    "    for j in range(1, i):\n",
    "        if i % j == 0:\n",
    "            tmp_list.append(j)  # 把因子加入临时列表\n",
    "    if sum(tmp_list) == i:  # 这个是完数\n",
    "        lst.append(i)  # 加入完数列表\n",
    "print(lst)"
   ]
  },
  {
   "cell_type": "markdown",
   "id": "0dcef903-307d-4364-861c-d199d24c594f",
   "metadata": {
    "execution": {
     "iopub.execute_input": "2025-01-07T14:48:26.308945Z",
     "iopub.status.busy": "2025-01-07T14:48:26.308432Z",
     "iopub.status.idle": "2025-01-07T14:48:26.312586Z",
     "shell.execute_reply": "2025-01-07T14:48:26.312073Z",
     "shell.execute_reply.started": "2025-01-07T14:48:26.308945Z"
    }
   },
   "source": [
    "#### 题目：一球从100米高度自由落下，\n",
    "    每次落地后反跳回原高度的一半；再落下，求它在第10次落地时，共经过多少米？第10次反弹多高？"
   ]
  },
  {
   "cell_type": "code",
   "execution_count": 34,
   "id": "9105391e-bbb9-4ccf-be3e-ea76401e0f9e",
   "metadata": {
    "execution": {
     "iopub.execute_input": "2025-01-07T15:23:59.533672Z",
     "iopub.status.busy": "2025-01-07T15:23:59.533672Z",
     "iopub.status.idle": "2025-01-07T15:23:59.539886Z",
     "shell.execute_reply": "2025-01-07T15:23:59.538890Z",
     "shell.execute_reply.started": "2025-01-07T15:23:59.533672Z"
    }
   },
   "outputs": [
    {
     "name": "stdout",
     "output_type": "stream",
     "text": [
      "[50.0, 25.0, 12.5, 6.25, 3.125, 1.5625, 0.78125, 0.390625, 0.1953125, 0.09765625]\n",
      "[100, 100.0, 50.0, 25.0, 12.5, 6.25, 3.125, 1.5625, 0.78125, 0.390625]\n",
      "第10次落地共经过299.609375米,第10次反弹0.09765625米\n"
     ]
    }
   ],
   "source": [
    "lst_height = [100 / (2**i) for i in range(1, 11)]\n",
    "print(lst_height)\n",
    "lst_distence = [100]\n",
    "for i in range(9):\n",
    "    lst_distence.append(lst_height[i] * 2)\n",
    "print(lst_distence)\n",
    "print(f\"第10次落地共经过{sum(lst_distence)}米,第10次反弹{lst_height[9]}米\")"
   ]
  },
  {
   "cell_type": "code",
   "execution_count": 32,
   "id": "7ebc470d-3da1-4f27-be2f-f86286d0ff5e",
   "metadata": {
    "execution": {
     "iopub.execute_input": "2025-01-07T15:21:59.866074Z",
     "iopub.status.busy": "2025-01-07T15:21:59.865069Z",
     "iopub.status.idle": "2025-01-07T15:22:00.030167Z",
     "shell.execute_reply": "2025-01-07T15:22:00.028168Z",
     "shell.execute_reply.started": "2025-01-07T15:21:59.866074Z"
    }
   },
   "outputs": [
    {
     "name": "stdout",
     "output_type": "stream",
     "text": [
      "第10次落地时，共经过 299.609375 米。\n",
      "第10次反弹的高度为 0.09765625 米。\n"
     ]
    }
   ],
   "source": [
    "def calculate_distance_and_height(height, times):\n",
    "    total_distance = 0\n",
    "    current_height = height\n",
    "\n",
    "    for i in range(1, times + 1):\n",
    "        # 从第二次开始，落地时的距离应该是反弹高度乘以2（弹到最高点再落下）\n",
    "        if i == 1:\n",
    "            total_distance += current_height\n",
    "        else:\n",
    "            total_distance += current_height * 2  # 每次下落和反弹的距离\n",
    "        current_height /= 2  # 反弹后的高度\n",
    "\n",
    "    return total_distance, current_height\n",
    "\n",
    "\n",
    "# 初始高度为100米，计算第10次落地时的总距离和反弹高度\n",
    "height = 100\n",
    "bounce_times = 10\n",
    "total_distance, final_height = calculate_distance_and_height(height, bounce_times)\n",
    "\n",
    "print(f\"第{bounce_times}次落地时，共经过 {total_distance} 米。\")\n",
    "print(f\"第{bounce_times}次反弹的高度为 {final_height} 米。\")"
   ]
  },
  {
   "cell_type": "markdown",
   "id": "2c212336-b39d-41c5-b5b6-ff7f8b36389c",
   "metadata": {},
   "source": [
    "#### 题目：猴子吃桃问题：\n",
    "    猴子第一天摘下若干个桃子，当即吃了一半，还不瘾，又多吃了一个第二天早上又将剩下的桃子吃掉一半，又多吃了一个。\n",
    "    以后每天早上都吃了前一天剩下的一半零一个。到第10天早上想再吃时，见只剩下一个桃子了。\n",
    "    求第一天共摘了多少。 程序分析：采取逆向思维的方法，从后往前推断。"
   ]
  },
  {
   "cell_type": "code",
   "execution_count": 48,
   "id": "2687d007-f393-4011-a2ed-a282e8ca2479",
   "metadata": {
    "execution": {
     "iopub.execute_input": "2025-01-07T15:43:07.632350Z",
     "iopub.status.busy": "2025-01-07T15:43:07.631349Z",
     "iopub.status.idle": "2025-01-07T15:43:07.637861Z",
     "shell.execute_reply": "2025-01-07T15:43:07.637357Z",
     "shell.execute_reply.started": "2025-01-07T15:43:07.632350Z"
    }
   },
   "outputs": [
    {
     "data": {
      "text/plain": [
       "1534"
      ]
     },
     "execution_count": 48,
     "metadata": {},
     "output_type": "execute_result"
    }
   ],
   "source": [
    "def ctz(n):\n",
    "    num = 1\n",
    "    for i in range(n - 1):\n",
    "        num = 2 * (num + 1)\n",
    "        # total += num\n",
    "    return num\n",
    "\n",
    "\n",
    "t = ctz(10)\n",
    "t"
   ]
  },
  {
   "cell_type": "markdown",
   "id": "ef83bee9-6191-44a4-abee-38215c0c146f",
   "metadata": {},
   "source": [
    "#### 题目：两个乒乓球队进行比赛，各出三人。\n",
    "    甲队为a,b,c三人，乙队为x,y,z三人。已抽签决定比赛名单。有人向队员打听比赛的名单。a说他不和x比，c说他不和x,z比，\n",
    "    请编程序找出三队赛手的名单。"
   ]
  },
  {
   "cell_type": "code",
   "execution_count": 58,
   "id": "140594fd-95cb-45cf-b16e-ebadc3e2405b",
   "metadata": {
    "execution": {
     "iopub.execute_input": "2025-01-07T16:15:40.003835Z",
     "iopub.status.busy": "2025-01-07T16:15:40.003835Z",
     "iopub.status.idle": "2025-01-07T16:15:40.009023Z",
     "shell.execute_reply": "2025-01-07T16:15:40.009023Z",
     "shell.execute_reply.started": "2025-01-07T16:15:40.003835Z"
    },
    "scrolled": true
   },
   "outputs": [
    {
     "name": "stdout",
     "output_type": "stream",
     "text": [
      "az bx cy\n"
     ]
    }
   ],
   "source": [
    "lst1 = [\"x\", \"y\", \"z\"]\n",
    "lst = []\n",
    "for i in lst1:\n",
    "    for j in lst1:\n",
    "        if j != i:\n",
    "            for k in lst1:\n",
    "                if k != j and k != i:\n",
    "                    if i != \"x\" and k != \"x\" and k != \"z\":\n",
    "                        print(\"a\" + i, \"b\" + j, \"c\" + k)"
   ]
  },
  {
   "cell_type": "code",
   "execution_count": 54,
   "id": "c431cb8c-522d-499a-baec-f63c05eaf446",
   "metadata": {
    "execution": {
     "iopub.execute_input": "2025-01-07T16:04:09.606062Z",
     "iopub.status.busy": "2025-01-07T16:04:09.605061Z",
     "iopub.status.idle": "2025-01-07T16:04:09.617051Z",
     "shell.execute_reply": "2025-01-07T16:04:09.616051Z",
     "shell.execute_reply.started": "2025-01-07T16:04:09.606062Z"
    }
   },
   "outputs": [
    {
     "name": "stdout",
     "output_type": "stream",
     "text": [
      "order is a -- z\t b -- x\tc--y\n"
     ]
    }
   ],
   "source": [
    "#!/usr/bin/python\n",
    "# -*- coding: UTF-8 -*-\n",
    "\n",
    "for i in range(ord(\"x\"), ord(\"z\") + 1):\n",
    "    for j in range(ord(\"x\"), ord(\"z\") + 1):\n",
    "        if i != j:\n",
    "            for k in range(ord(\"x\"), ord(\"z\") + 1):\n",
    "                if (i != k) and (j != k):\n",
    "                    if (i != ord(\"x\")) and (k != ord(\"x\")) and (k != ord(\"z\")):\n",
    "                        print(\n",
    "                            \"order is a -- %s\\t b -- %s\\tc--%s\"\n",
    "                            % (chr(i), chr(j), chr(k))\n",
    "                        )"
   ]
  },
  {
   "cell_type": "code",
   "execution_count": 59,
   "id": "d9e30819-6e8a-45c9-a941-890e4adbd3b9",
   "metadata": {
    "execution": {
     "iopub.execute_input": "2025-01-07T16:20:34.401238Z",
     "iopub.status.busy": "2025-01-07T16:20:34.401238Z",
     "iopub.status.idle": "2025-01-07T16:20:34.412985Z",
     "shell.execute_reply": "2025-01-07T16:20:34.410991Z",
     "shell.execute_reply.started": "2025-01-07T16:20:34.401238Z"
    }
   },
   "outputs": [
    {
     "name": "stdout",
     "output_type": "stream",
     "text": [
      "a的对手是: z\n",
      "b的对手是: x\n",
      "c的对手是: y\n"
     ]
    }
   ],
   "source": [
    "# 遍历所有可能的比赛配对情况\n",
    "for a_vs in [\"x\", \"y\", \"z\"]:\n",
    "    for b_vs in [\"x\", \"y\", \"z\"]:\n",
    "        for c_vs in [\"x\", \"y\", \"z\"]:\n",
    "            # 保证每个对手只被匹配一次 用集合\n",
    "            if (\n",
    "                set([a_vs, b_vs, c_vs]) == set([\"x\", \"y\", \"z\"])\n",
    "                and a_vs != \"x\"\n",
    "                and c_vs != \"x\"\n",
    "                and c_vs != \"z\"\n",
    "            ):\n",
    "                print(f\"a的对手是: {a_vs}\")\n",
    "                print(f\"b的对手是: {b_vs}\")\n",
    "                print(f\"c的对手是: {c_vs}\")"
   ]
  },
  {
   "cell_type": "markdown",
   "id": "dfe95cf7-2160-4778-9bab-49fa9cd1a182",
   "metadata": {},
   "source": [
    "#### 题目：有一分数序列：2/1，3/2，5/3，8/5，13/8，21/13...求出这个数列的前20项之和。"
   ]
  },
  {
   "cell_type": "code",
   "execution_count": 86,
   "id": "a495bc7d-49c9-4ed4-86e4-3d25ec00de8e",
   "metadata": {
    "execution": {
     "iopub.execute_input": "2025-01-07T17:40:04.370173Z",
     "iopub.status.busy": "2025-01-07T17:40:04.370173Z",
     "iopub.status.idle": "2025-01-07T17:40:04.375244Z",
     "shell.execute_reply": "2025-01-07T17:40:04.375244Z",
     "shell.execute_reply.started": "2025-01-07T17:40:04.370173Z"
    }
   },
   "outputs": [
    {
     "name": "stdout",
     "output_type": "stream",
     "text": [
      "32.660260798641644\n"
     ]
    }
   ],
   "source": [
    "def lst_sum(n):\n",
    "    x = 1\n",
    "    y = 2\n",
    "    num = 0\n",
    "    lst = []\n",
    "    for i in range(n):\n",
    "        num = y / x\n",
    "        x, y = y, x + y\n",
    "        # print(num)\n",
    "        # print(f\"x->{x},y->{y}\")\n",
    "        lst.append(num)\n",
    "    return lst\n",
    "\n",
    "\n",
    "a = lst_sum(20)\n",
    "print(sum(a))"
   ]
  },
  {
   "cell_type": "markdown",
   "id": "db547c80-a709-4eb4-813e-2713d2757e26",
   "metadata": {},
   "source": [
    "#### 题目：求1+2!+3!+...+20!的和。"
   ]
  },
  {
   "cell_type": "code",
   "execution_count": null,
   "id": "061cac2c-e902-40c8-8770-0a464b9457ae",
   "metadata": {},
   "outputs": [],
   "source": [
    "total = 0\n",
    "t = 1\n",
    "for i in range(1,21): \n",
    "    t = t*i\n",
    "    total += t\n",
    "    print(t)\n",
    "print(total)"
   ]
  },
  {
   "cell_type": "markdown",
   "id": "32ae95a9-d15e-44ac-99b4-0c91fbfa9d77",
   "metadata": {
    "execution": {
     "iopub.execute_input": "2025-01-07T18:07:29.012265Z",
     "iopub.status.busy": "2025-01-07T18:07:29.012265Z",
     "iopub.status.idle": "2025-01-07T18:07:29.017260Z",
     "shell.execute_reply": "2025-01-07T18:07:29.017260Z",
     "shell.execute_reply.started": "2025-01-07T18:07:29.012265Z"
    }
   },
   "source": [
    "给一个不多于5位的正整数，要求：一、求它是几位数，二、逆序打印出各位数字。"
   ]
  },
  {
   "cell_type": "code",
   "execution_count": 95,
   "id": "d471718e-028d-459b-ac70-fadd145d96da",
   "metadata": {
    "execution": {
     "iopub.execute_input": "2025-01-07T18:11:28.788611Z",
     "iopub.status.busy": "2025-01-07T18:11:28.787611Z",
     "iopub.status.idle": "2025-01-07T18:11:31.935635Z",
     "shell.execute_reply": "2025-01-07T18:11:31.935635Z",
     "shell.execute_reply.started": "2025-01-07T18:11:28.788611Z"
    }
   },
   "outputs": [
    {
     "name": "stdin",
     "output_type": "stream",
     "text": [
      "输入一个正整数： 12345\n"
     ]
    },
    {
     "name": "stdout",
     "output_type": "stream",
     "text": [
      "5\n",
      "54321\n"
     ]
    }
   ],
   "source": [
    "a = input('输入一个正整数：')\n",
    "t = a.strip()\n",
    "print(len(t))\n",
    "print(t[::-1])"
   ]
  }
 ],
 "metadata": {
  "jpcodetoc-autonumbering": false,
  "jpcodetoc-showmarkdowntxt": true,
  "kernelspec": {
   "display_name": "Python 3 (ipykernel)",
   "language": "python",
   "name": "python3"
  },
  "language_info": {
   "codemirror_mode": {
    "name": "ipython",
    "version": 3
   },
   "file_extension": ".py",
   "mimetype": "text/x-python",
   "name": "python",
   "nbconvert_exporter": "python",
   "pygments_lexer": "ipython3",
   "version": "3.12.8"
  }
 },
 "nbformat": 4,
 "nbformat_minor": 5
}
