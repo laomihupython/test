# conding='utf-8'
import os

print('这是我第一次在github上创建文件')
